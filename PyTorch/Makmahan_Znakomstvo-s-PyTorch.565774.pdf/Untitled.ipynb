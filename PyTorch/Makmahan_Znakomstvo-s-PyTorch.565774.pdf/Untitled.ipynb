{
 "cells": [
  {
   "cell_type": "code",
   "execution_count": 1,
   "id": "4dfdfb39",
   "metadata": {},
   "outputs": [],
   "source": [
    "from sklearn.feature_extraction.text import CountVectorizer\n",
    "import seaborn as sns"
   ]
  },
  {
   "cell_type": "code",
   "execution_count": 23,
   "id": "b8d1b47a",
   "metadata": {},
   "outputs": [],
   "source": [
    "corpus = ['Time flies flies like an arrow.', 'Fruit flies like a banana.']"
   ]
  },
  {
   "cell_type": "code",
   "execution_count": 24,
   "id": "fdb5abc3",
   "metadata": {},
   "outputs": [
    {
     "data": {
      "text/plain": [
       "['an', 'arrow', 'banana', 'flies', 'fruit', 'like', 'time']"
      ]
     },
     "execution_count": 24,
     "metadata": {},
     "output_type": "execute_result"
    }
   ],
   "source": [
    "vocab = sorted(set(word.rstrip('.') for sentence in corpus for word in sentence.lower().split()  if len(word) > 1))\n",
    "vocab"
   ]
  },
  {
   "cell_type": "code",
   "execution_count": 25,
   "id": "46d806c0",
   "metadata": {},
   "outputs": [
    {
     "data": {
      "text/plain": [
       "array([[1, 1, 0, 1, 0, 1, 1],\n",
       "       [0, 0, 1, 1, 1, 1, 0]], dtype=int64)"
      ]
     },
     "execution_count": 25,
     "metadata": {},
     "output_type": "execute_result"
    }
   ],
   "source": [
    "one_hot_vectorizer = CountVectorizer(binary=True)\n",
    "one_hot = one_hot_vectorizer.fit_transform(corpus).toarray()\n",
    "one_hot"
   ]
  },
  {
   "cell_type": "code",
   "execution_count": 27,
   "id": "435e4015",
   "metadata": {},
   "outputs": [
    {
     "data": {
      "text/plain": [
       "<AxesSubplot:>"
      ]
     },
     "execution_count": 27,
     "metadata": {},
     "output_type": "execute_result"
    },
    {
     "data": {
      "image/png": "[encoded data removed]",
      "text/plain": [
       "<Figure size 432x288 with 1 Axes>"
      ]
     },
     "metadata": {
      "needs_background": "light"
     },
     "output_type": "display_data"
    }
   ],
   "source": [
    "sns.heatmap(one_hot, annot=True,\n",
    "            cbar=False, xticklabels=vocab,\n",
    "           yticklabels=['Предложение 1', 'Предложение 2'])"
   ]
  },
  {
   "cell_type": "code",
   "execution_count": null,
   "id": "97b6f526",
   "metadata": {},
   "outputs": [],
   "source": []
  },
  {
   "cell_type": "code",
   "execution_count": 28,
   "id": "58b21d8b",
   "metadata": {},
   "outputs": [],
   "source": [
    "from sklearn.feature_extraction.text import TfidfVectorizer\n",
    "import seaborn as sns"
   ]
  },
  {
   "cell_type": "code",
   "execution_count": 30,
   "id": "61df8caa",
   "metadata": {},
   "outputs": [
    {
     "data": {
      "text/plain": [
       "['an', 'arrow', 'banana', 'flies', 'fruit', 'like', 'time']"
      ]
     },
     "execution_count": 30,
     "metadata": {},
     "output_type": "execute_result"
    }
   ],
   "source": [
    "corpus = ['Time flies flies like an arrow.', 'Fruit flies like a banana.']\n",
    "vocab = sorted(set(word.rstrip('.') for sentence in corpus for word in sentence.lower().split()  if len(word) > 1))\n",
    "vocab"
   ]
  },
  {
   "cell_type": "code",
   "execution_count": 31,
   "id": "4c0d003c",
   "metadata": {},
   "outputs": [
    {
     "data": {
      "text/plain": [
       "array([[0.42519636, 0.42519636, 0.        , 0.60506143, 0.        ,\n",
       "        0.30253071, 0.42519636],\n",
       "       [0.        , 0.        , 0.57615236, 0.40993715, 0.57615236,\n",
       "        0.40993715, 0.        ]])"
      ]
     },
     "execution_count": 31,
     "metadata": {},
     "output_type": "execute_result"
    }
   ],
   "source": [
    "tfidf_vectorizer = TfidfVectorizer()\n",
    "tfidf = tfidf_vectorizer.fit_transform(corpus).toarray()\n",
    "tfidf"
   ]
  },
  {
   "cell_type": "code",
   "execution_count": 33,
   "id": "b84820f8",
   "metadata": {},
   "outputs": [
    {
     "data": {
      "text/plain": [
       "<AxesSubplot:>"
      ]
     },
     "execution_count": 33,
     "metadata": {},
     "output_type": "execute_result"
    },
    {
     "data": {
      "image/png": "[encoded data removed]",
      "text/plain": [
       "<Figure size 432x288 with 1 Axes>"
      ]
     },
     "metadata": {
      "needs_background": "light"
     },
     "output_type": "display_data"
    }
   ],
   "source": [
    "sns.heatmap(tfidf, annot=True,\n",
    "            cbar=False, xticklabels=vocab,\n",
    "           yticklabels=['Предложение 1', 'Предложение 2'])"
   ]
  },
  {
   "cell_type": "code",
   "execution_count": null,
   "id": "85df6588",
   "metadata": {},
   "outputs": [],
   "source": []
  },
  {
   "cell_type": "code",
   "execution_count": 34,
   "id": "2025a05c",
   "metadata": {},
   "outputs": [],
   "source": [
    "def describe(x):\n",
    "    print(f'Type: {x.type()}')\n",
    "    print(f'Shape/size: {x.shape}')\n",
    "    print(f'Values: \\n{x}')"
   ]
  },
  {
   "cell_type": "code",
   "execution_count": 35,
   "id": "102adef6",
   "metadata": {},
   "outputs": [],
   "source": [
    "import torch"
   ]
  },
  {
   "cell_type": "code",
   "execution_count": 36,
   "id": "3bebdae4",
   "metadata": {},
   "outputs": [
    {
     "name": "stdout",
     "output_type": "stream",
     "text": [
      "Type: torch.FloatTensor\n",
      "Shape/size: torch.Size([2, 3])\n",
      "Values: \n",
      "tensor([[0.0000e+00, 4.1988e+07, 1.8754e+28],\n",
      "        [6.3455e-10, 5.2479e-08, 1.2812e-11]])\n"
     ]
    }
   ],
   "source": [
    "describe(torch.Tensor(2, 3))"
   ]
  },
  {
   "cell_type": "code",
   "execution_count": 37,
   "id": "278b97e4",
   "metadata": {},
   "outputs": [
    {
     "name": "stdout",
     "output_type": "stream",
     "text": [
      "Type: torch.FloatTensor\n",
      "Shape/size: torch.Size([2, 3])\n",
      "Values: \n",
      "tensor([[0.5425, 0.0576, 0.7291],\n",
      "        [0.3133, 0.2563, 0.8827]])\n"
     ]
    }
   ],
   "source": [
    "describe(torch.rand(2, 3))"
   ]
  },
  {
   "cell_type": "code",
   "execution_count": 38,
   "id": "e716aac6",
   "metadata": {},
   "outputs": [
    {
     "name": "stdout",
     "output_type": "stream",
     "text": [
      "Type: torch.FloatTensor\n",
      "Shape/size: torch.Size([2, 3])\n",
      "Values: \n",
      "tensor([[ 1.2325,  1.2856,  0.9193],\n",
      "        [ 1.7162, -0.8915, -0.5595]])\n"
     ]
    }
   ],
   "source": [
    "describe(torch.randn(2, 3))"
   ]
  },
  {
   "cell_type": "code",
   "execution_count": 39,
   "id": "c97f25ac",
   "metadata": {},
   "outputs": [
    {
     "name": "stdout",
     "output_type": "stream",
     "text": [
      "Type: torch.FloatTensor\n",
      "Shape/size: torch.Size([2, 3])\n",
      "Values: \n",
      "tensor([[0., 0., 0.],\n",
      "        [0., 0., 0.]])\n"
     ]
    }
   ],
   "source": [
    "describe(torch.zeros(2, 3))"
   ]
  },
  {
   "cell_type": "code",
   "execution_count": 40,
   "id": "624385c1",
   "metadata": {},
   "outputs": [
    {
     "name": "stdout",
     "output_type": "stream",
     "text": [
      "Type: torch.FloatTensor\n",
      "Shape/size: torch.Size([2, 3])\n",
      "Values: \n",
      "tensor([[1., 1., 1.],\n",
      "        [1., 1., 1.]])\n"
     ]
    }
   ],
   "source": [
    "x = torch.ones(2, 3)\n",
    "describe(x)"
   ]
  },
  {
   "cell_type": "code",
   "execution_count": 41,
   "id": "b7a88efb",
   "metadata": {},
   "outputs": [
    {
     "name": "stdout",
     "output_type": "stream",
     "text": [
      "Type: torch.FloatTensor\n",
      "Shape/size: torch.Size([2, 3])\n",
      "Values: \n",
      "tensor([[5., 5., 5.],\n",
      "        [5., 5., 5.]])\n"
     ]
    }
   ],
   "source": [
    "x.fill_(5)\n",
    "describe(x)"
   ]
  },
  {
   "cell_type": "code",
   "execution_count": 63,
   "id": "954b8aed",
   "metadata": {},
   "outputs": [
    {
     "data": {
      "text/plain": [
       "tensor([[0.5859, 0.5080, 0.3263],\n",
       "        [0.9705, 0.3607, 0.8209],\n",
       "        [0.8165, 0.6670, 0.0134]])"
      ]
     },
     "execution_count": 63,
     "metadata": {},
     "output_type": "execute_result"
    }
   ],
   "source": [
    "a = torch.rand(3, 3)\n",
    "a"
   ]
  },
  {
   "cell_type": "code",
   "execution_count": 66,
   "id": "a5d30880",
   "metadata": {},
   "outputs": [
    {
     "data": {
      "text/plain": [
       "tensor([[[0.5859, 0.5080, 0.3263],\n",
       "         [0.9705, 0.3607, 0.8209],\n",
       "         [0.8165, 0.6670, 0.0134]]])"
      ]
     },
     "execution_count": 66,
     "metadata": {},
     "output_type": "execute_result"
    }
   ],
   "source": [
    "a.unsqueeze_(0)"
   ]
  },
  {
   "cell_type": "code",
   "execution_count": 68,
   "id": "46fac524",
   "metadata": {},
   "outputs": [
    {
     "data": {
      "text/plain": [
       "tensor([[0.5859, 0.5080, 0.3263],\n",
       "        [0.9705, 0.3607, 0.8209],\n",
       "        [0.8165, 0.6670, 0.0134]])"
      ]
     },
     "execution_count": 68,
     "metadata": {},
     "output_type": "execute_result"
    }
   ],
   "source": [
    "a.squeeze_(0)"
   ]
  }
 ],
 "metadata": {
  "kernelspec": {
   "display_name": "Python 3 (ipykernel)",
   "language": "python",
   "name": "python3"
  },
  "language_info": {
   "codemirror_mode": {
    "name": "ipython",
    "version": 3
   },
   "file_extension": ".py",
   "mimetype": "text/x-python",
   "name": "python",
   "nbconvert_exporter": "python",
   "pygments_lexer": "ipython3",
   "version": "3.9.12"
  }
 },
 "nbformat": 4,
 "nbformat_minor": 5
}
