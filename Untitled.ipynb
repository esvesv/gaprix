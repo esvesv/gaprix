{
 "cells": [
  {
   "cell_type": "code",
   "execution_count": 19,
   "id": "767579e6",
   "metadata": {},
   "outputs": [],
   "source": [
    "import pandas as pd\n",
    "import json\n",
    "import os"
   ]
  },
  {
   "cell_type": "code",
   "execution_count": 18,
   "id": "cd23163c",
   "metadata": {},
   "outputs": [],
   "source": [
    "files_names = os.listdir('ALGORITM/')"
   ]
  },
  {
   "cell_type": "code",
   "execution_count": 54,
   "id": "9294b97a",
   "metadata": {},
   "outputs": [],
   "source": [
    "result = {}\n",
    "# result = {'id': [], 'size': [], 'stacking': [], 'turnover': [], 'test_id': []}\n",
    "for file_name in files_names:\n",
    "    with open(f'ALGORITM/{file_name}', encoding='utf-8') as file:\n",
    "        test = json.load(file)\n",
    "    test_name = file_name.split('.')[0].split('_')[-1]\n",
    "    boxes = test['data_result']['boxes']\n",
    "    for box in boxes:\n",
    "        result['id'] = result.get('id', []) + [box['id']]\n",
    "        result['size'] = result.get('size', []) + [box['size']]\n",
    "        result['stacking'] = result.get('stacking', []) + [box['stacking']]\n",
    "        result['turnover'] = result.get('turnover', []) + [box['turnover']]\n",
    "        result['test_id'] = result.get('test_id', []) + [test_name]\n",
    "        result['loading_size'] = result.get('loading_size', []) + [test['data_result']['cargo_space']['loading_size']]\n",
    "        result['density_percent'] = result.get('density_percent', []) + [test['data_result']['cargo_space']['calculation_info']['density_percent']]\n",
    "        result['filling_space_percent'] = result.get('filling_space_percent', []) + [test['data_result']['cargo_space']['calculation_info']['filling_space_percent']]"
   ]
  },
  {
   "cell_type": "code",
   "execution_count": 55,
   "id": "22c36be7",
   "metadata": {},
   "outputs": [],
   "source": [
    "with open('result.json', 'w', encoding='utf-8') as file:\n",
    "    json.dump(result, file, ensure_ascii=False, indent=4)"
   ]
  },
  {
   "cell_type": "code",
   "execution_count": 56,
   "id": "ec63e63d",
   "metadata": {},
   "outputs": [],
   "source": [
    "with open('result.json',encoding='utf-8') as file:\n",
    "    result = json.load(file)"
   ]
  },
  {
   "cell_type": "code",
   "execution_count": 57,
   "id": "e322f643",
   "metadata": {},
   "outputs": [],
   "source": [
    "df = pd.DataFrame(result)"
   ]
  },
  {
   "cell_type": "code",
   "execution_count": 58,
   "id": "2ad22765",
   "metadata": {},
   "outputs": [
    {
     "data": {
      "text/plain": [
       "5412"
      ]
     },
     "execution_count": 58,
     "metadata": {},
     "output_type": "execute_result"
    }
   ],
   "source": [
    "df.id.nunique()"
   ]
  },
  {
   "cell_type": "code",
   "execution_count": 59,
   "id": "b48f9d9c",
   "metadata": {},
   "outputs": [
    {
     "data": {
      "text/html": [
       "<div>\n",
       "<style scoped>\n",
       "    .dataframe tbody tr th:only-of-type {\n",
       "        vertical-align: middle;\n",
       "    }\n",
       "\n",
       "    .dataframe tbody tr th {\n",
       "        vertical-align: top;\n",
       "    }\n",
       "\n",
       "    .dataframe thead th {\n",
       "        text-align: right;\n",
       "    }\n",
       "</style>\n",
       "<table border=\"1\" class=\"dataframe\">\n",
       "  <thead>\n",
       "    <tr style=\"text-align: right;\">\n",
       "      <th></th>\n",
       "      <th>id</th>\n",
       "      <th>size</th>\n",
       "      <th>stacking</th>\n",
       "      <th>turnover</th>\n",
       "      <th>test_id</th>\n",
       "      <th>loading_size</th>\n",
       "      <th>density_percent</th>\n",
       "      <th>filling_space_percent</th>\n",
       "    </tr>\n",
       "  </thead>\n",
       "  <tbody>\n",
       "    <tr>\n",
       "      <th>0</th>\n",
       "      <td>475</td>\n",
       "      <td>{'width': 196.0, 'height': 311.0, 'length': 32...</td>\n",
       "      <td>True</td>\n",
       "      <td>True</td>\n",
       "      <td>11834</td>\n",
       "      <td>{'width': 800.0, 'height': 2000.0, 'length': 1...</td>\n",
       "      <td>81.76416</td>\n",
       "      <td>81.72327</td>\n",
       "    </tr>\n",
       "    <tr>\n",
       "      <th>1</th>\n",
       "      <td>485</td>\n",
       "      <td>{'width': 297.0, 'height': 279.0, 'length': 38...</td>\n",
       "      <td>True</td>\n",
       "      <td>True</td>\n",
       "      <td>11834</td>\n",
       "      <td>{'width': 800.0, 'height': 2000.0, 'length': 1...</td>\n",
       "      <td>81.76416</td>\n",
       "      <td>81.72327</td>\n",
       "    </tr>\n",
       "    <tr>\n",
       "      <th>2</th>\n",
       "      <td>484</td>\n",
       "      <td>{'width': 297.0, 'height': 279.0, 'length': 38...</td>\n",
       "      <td>True</td>\n",
       "      <td>True</td>\n",
       "      <td>11834</td>\n",
       "      <td>{'width': 800.0, 'height': 2000.0, 'length': 1...</td>\n",
       "      <td>81.76416</td>\n",
       "      <td>81.72327</td>\n",
       "    </tr>\n",
       "    <tr>\n",
       "      <th>3</th>\n",
       "      <td>12</td>\n",
       "      <td>{'width': 57.0, 'height': 117.0, 'length': 182.0}</td>\n",
       "      <td>True</td>\n",
       "      <td>True</td>\n",
       "      <td>11834</td>\n",
       "      <td>{'width': 800.0, 'height': 2000.0, 'length': 1...</td>\n",
       "      <td>81.76416</td>\n",
       "      <td>81.72327</td>\n",
       "    </tr>\n",
       "    <tr>\n",
       "      <th>4</th>\n",
       "      <td>63</td>\n",
       "      <td>{'width': 96.0, 'height': 194.0, 'length': 141.0}</td>\n",
       "      <td>True</td>\n",
       "      <td>True</td>\n",
       "      <td>11834</td>\n",
       "      <td>{'width': 800.0, 'height': 2000.0, 'length': 1...</td>\n",
       "      <td>81.76416</td>\n",
       "      <td>81.72327</td>\n",
       "    </tr>\n",
       "  </tbody>\n",
       "</table>\n",
       "</div>"
      ],
      "text/plain": [
       "    id                                               size  stacking  turnover  \\\n",
       "0  475  {'width': 196.0, 'height': 311.0, 'length': 32...      True      True   \n",
       "1  485  {'width': 297.0, 'height': 279.0, 'length': 38...      True      True   \n",
       "2  484  {'width': 297.0, 'height': 279.0, 'length': 38...      True      True   \n",
       "3   12  {'width': 57.0, 'height': 117.0, 'length': 182.0}      True      True   \n",
       "4   63  {'width': 96.0, 'height': 194.0, 'length': 141.0}      True      True   \n",
       "\n",
       "  test_id                                       loading_size  density_percent  \\\n",
       "0   11834  {'width': 800.0, 'height': 2000.0, 'length': 1...         81.76416   \n",
       "1   11834  {'width': 800.0, 'height': 2000.0, 'length': 1...         81.76416   \n",
       "2   11834  {'width': 800.0, 'height': 2000.0, 'length': 1...         81.76416   \n",
       "3   11834  {'width': 800.0, 'height': 2000.0, 'length': 1...         81.76416   \n",
       "4   11834  {'width': 800.0, 'height': 2000.0, 'length': 1...         81.76416   \n",
       "\n",
       "   filling_space_percent  \n",
       "0               81.72327  \n",
       "1               81.72327  \n",
       "2               81.72327  \n",
       "3               81.72327  \n",
       "4               81.72327  "
      ]
     },
     "execution_count": 59,
     "metadata": {},
     "output_type": "execute_result"
    }
   ],
   "source": [
    "df.head()"
   ]
  },
  {
   "cell_type": "code",
   "execution_count": 60,
   "id": "6e4ced8f",
   "metadata": {},
   "outputs": [
    {
     "data": {
      "text/plain": [
       "75011"
      ]
     },
     "execution_count": 60,
     "metadata": {},
     "output_type": "execute_result"
    }
   ],
   "source": [
    "len(df)"
   ]
  },
  {
   "cell_type": "code",
   "execution_count": null,
   "id": "d1cbc3c8",
   "metadata": {},
   "outputs": [],
   "source": []
  }
 ],
 "metadata": {
  "kernelspec": {
   "display_name": "Python 3 (ipykernel)",
   "language": "python",
   "name": "python3"
  },
  "language_info": {
   "codemirror_mode": {
    "name": "ipython",
    "version": 3
   },
   "file_extension": ".py",
   "mimetype": "text/x-python",
   "name": "python",
   "nbconvert_exporter": "python",
   "pygments_lexer": "ipython3",
   "version": "3.9.12"
  }
 },
 "nbformat": 4,
 "nbformat_minor": 5
}
