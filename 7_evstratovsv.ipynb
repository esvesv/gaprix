{
 "cells": [
  {
   "cell_type": "markdown",
   "id": "5eba6b3a",
   "metadata": {},
   "source": [
    "# ПРОГНОЗ ОТТОКА ПОЛЬЗОВАТЕЛЕЙ КРЕДИТНЫХ КАРТ\n",
    "\n",
    "## ЗАДАЧА\n",
    "Необходимо построить прогнозную модель, которая сможет определить, перестанет ли клиент банка пользоваться кредитной картой.\n",
    "\n",
    "#### В таблице представлены следующие столбцы:\n",
    "\n",
    "**CLIENTNUM** - Номер клиента. Уникальный идентификатор клиента, которому принадлежит счет\n",
    "\n",
    "**Attrition_Flag** - Aктивность клиента — если учетная запись закрыта, то Attrited Customer, иначе Existing Customer\n",
    "\n",
    "**Customer_Age** - Bозраст клиента в годах\n",
    "\n",
    "**Gender** - М=мужчина, Ж=женщина\n",
    "\n",
    "**Dependent_count** - Количество иждивенцев\n",
    "\n",
    "**Education_Level** - Образование, квалификация владельца счета (пример: средняя школа, выпускник колледжа и т. д.)\n",
    "\n",
    "**Marital_Status** - Женат, Холост, Разведен, Неизвестно\n",
    "\n",
    "**Income_Category** - Категория годового дохода владельца счета (< 40 000 долларов США, 40 000-60 000 долларов США, 60 000-80 000 долларов США, 80 000-120 000 долларов США, >\n",
    "\n",
    "**Card_Category** - Тип карты (Синяя, Серебряная, Золотая, Платиновая)\n",
    "\n",
    "**Months_on_book** - Период отношений с банком\n",
    "\n",
    "**Total_Relationship_Count** - Общее количество продукции, хранящейся у клиента\n",
    "\n",
    "**Months_Inactive_12_mon** - Количество месяцев бездействия за последние 12 месяцев\n",
    "\n",
    "**Contacts_Count_12_mon** - Количество контактов за последние 12 месяцев\n",
    "\n",
    "**Credit_Limit** - Кредитный лимит по кредитной карте\n",
    "\n",
    "**Total_Revolving_Bal** - Общий оборотный баланс на кредитной карте\n",
    "\n",
    "**Avg_Open_To_Buy** - Открытая кредитная линия для покупки (среднее значение за последние 12 месяцев)\n",
    "\n",
    "**Total_Amt_Chng_Q4_Q1** - Изменение суммы транзакции (Q4 по сравнению с Q1)\n",
    "\n",
    "**Total_Trans_Amt** - Общая сумма транзакции (последние 12 месяцев)\n",
    "\n",
    "**Total_Trans_Ct** - Общее количество транзакций (последние 12 месяцев)\n",
    "\n",
    "**Total_Ct_Chng_Q4_Q1** - Изменение количества транзакций (Q4 по сравнению с Q1)\n",
    "\n",
    "**Avg_Utilization_Ratio** - Средний коэффициент использования карт\n",
    "\n",
    "### Целевой признак\n",
    "**Attrition_Flag** - Aктивность клиента — если учетная запись закрыта, то Attrited Customer, иначе Existing Customer\n",
    "\n",
    "**МЕТРИКА**\n",
    "\n",
    "Вычислите оценку F1, также известную как сбалансированная F-оценка или F-мера.\n",
    "\n",
    "Показатель F1 можно интерпретировать как среднее гармоническое между точностью и отзывом, где показатель F1 достигает своего наилучшего значения при 1, а наихудший показатель при 0. Относительный вклад точности и отзыва в показатель F1 равен.\n",
    "\n",
    "Формула для оценки F1:\n",
    "\n",
    "F1 = 2 * (precision * recall) / (precision + recall)"
   ]
  },
  {
   "cell_type": "code",
   "execution_count": 1,
   "id": "00aa30ab",
   "metadata": {},
   "outputs": [],
   "source": [
    "import pandas as pd\n",
    "import numpy as np\n",
    "import torch\n",
    "import matplotlib.pyplot as plt\n",
    "from sklearn.model_selection import train_test_split, KFold\n",
    "from sklearn.preprocessing import StandardScaler, MinMaxScaler\n",
    "from torchmetrics import F1Score\n",
    "from torch.utils.data import Dataset, DataLoader\n",
    "\n",
    "%matplotlib inline"
   ]
  },
  {
   "cell_type": "code",
   "execution_count": null,
   "id": "b87ba8f6",
   "metadata": {},
   "outputs": [],
   "source": [
    "train_df = pd.read_csv('train.csv')"
   ]
  },
  {
   "cell_type": "code",
   "execution_count": 3,
   "id": "0185d7ed",
   "metadata": {},
   "outputs": [],
   "source": [
    "validation_df = pd.read_csv('validation.csv')"
   ]
  },
  {
   "cell_type": "code",
   "execution_count": 4,
   "id": "693a8c8f",
   "metadata": {},
   "outputs": [
    {
     "data": {
      "text/html": [
       "<div>\n",
       "<style scoped>\n",
       "    .dataframe tbody tr th:only-of-type {\n",
       "        vertical-align: middle;\n",
       "    }\n",
       "\n",
       "    .dataframe tbody tr th {\n",
       "        vertical-align: top;\n",
       "    }\n",
       "\n",
       "    .dataframe thead th {\n",
       "        text-align: right;\n",
       "    }\n",
       "</style>\n",
       "<table border=\"1\" class=\"dataframe\">\n",
       "  <thead>\n",
       "    <tr style=\"text-align: right;\">\n",
       "      <th></th>\n",
       "      <th>CLIENTNUM</th>\n",
       "      <th>Customer_Age</th>\n",
       "      <th>Gender</th>\n",
       "      <th>Dependent_count</th>\n",
       "      <th>Education_Level</th>\n",
       "      <th>Marital_Status</th>\n",
       "      <th>Income_Category</th>\n",
       "      <th>Card_Category</th>\n",
       "      <th>Months_on_book</th>\n",
       "      <th>Total_Relationship_Count</th>\n",
       "      <th>...</th>\n",
       "      <th>Contacts_Count_12_mon</th>\n",
       "      <th>Credit_Limit</th>\n",
       "      <th>Total_Revolving_Bal</th>\n",
       "      <th>Avg_Open_To_Buy</th>\n",
       "      <th>Total_Amt_Chng_Q4_Q1</th>\n",
       "      <th>Total_Trans_Amt</th>\n",
       "      <th>Total_Trans_Ct</th>\n",
       "      <th>Total_Ct_Chng_Q4_Q1</th>\n",
       "      <th>Avg_Utilization_Ratio</th>\n",
       "      <th>Attrition_Flag</th>\n",
       "    </tr>\n",
       "  </thead>\n",
       "  <tbody>\n",
       "    <tr>\n",
       "      <th>0</th>\n",
       "      <td>715630983</td>\n",
       "      <td>31</td>\n",
       "      <td>F</td>\n",
       "      <td>0</td>\n",
       "      <td>Graduate</td>\n",
       "      <td>Single</td>\n",
       "      <td>Less than $40K</td>\n",
       "      <td>Blue</td>\n",
       "      <td>21</td>\n",
       "      <td>4</td>\n",
       "      <td>...</td>\n",
       "      <td>3</td>\n",
       "      <td>4598.0</td>\n",
       "      <td>0</td>\n",
       "      <td>4598.0</td>\n",
       "      <td>0.439</td>\n",
       "      <td>6317</td>\n",
       "      <td>77</td>\n",
       "      <td>0.833</td>\n",
       "      <td>0.000</td>\n",
       "      <td>Attrited Customer</td>\n",
       "    </tr>\n",
       "    <tr>\n",
       "      <th>1</th>\n",
       "      <td>713643858</td>\n",
       "      <td>53</td>\n",
       "      <td>F</td>\n",
       "      <td>1</td>\n",
       "      <td>College</td>\n",
       "      <td>Married</td>\n",
       "      <td>$40K - $60K</td>\n",
       "      <td>Blue</td>\n",
       "      <td>43</td>\n",
       "      <td>4</td>\n",
       "      <td>...</td>\n",
       "      <td>2</td>\n",
       "      <td>1525.0</td>\n",
       "      <td>1411</td>\n",
       "      <td>114.0</td>\n",
       "      <td>0.660</td>\n",
       "      <td>1911</td>\n",
       "      <td>47</td>\n",
       "      <td>0.958</td>\n",
       "      <td>0.925</td>\n",
       "      <td>Existing Customer</td>\n",
       "    </tr>\n",
       "    <tr>\n",
       "      <th>2</th>\n",
       "      <td>708334158</td>\n",
       "      <td>46</td>\n",
       "      <td>F</td>\n",
       "      <td>3</td>\n",
       "      <td>Graduate</td>\n",
       "      <td>Divorced</td>\n",
       "      <td>Less than $40K</td>\n",
       "      <td>Blue</td>\n",
       "      <td>34</td>\n",
       "      <td>4</td>\n",
       "      <td>...</td>\n",
       "      <td>4</td>\n",
       "      <td>9863.0</td>\n",
       "      <td>686</td>\n",
       "      <td>9177.0</td>\n",
       "      <td>0.581</td>\n",
       "      <td>3068</td>\n",
       "      <td>58</td>\n",
       "      <td>0.933</td>\n",
       "      <td>0.070</td>\n",
       "      <td>Existing Customer</td>\n",
       "    </tr>\n",
       "  </tbody>\n",
       "</table>\n",
       "<p>3 rows × 21 columns</p>\n",
       "</div>"
      ],
      "text/plain": [
       "   CLIENTNUM  Customer_Age Gender  Dependent_count Education_Level  \\\n",
       "0  715630983            31      F                0        Graduate   \n",
       "1  713643858            53      F                1         College   \n",
       "2  708334158            46      F                3        Graduate   \n",
       "\n",
       "  Marital_Status Income_Category Card_Category  Months_on_book  \\\n",
       "0         Single  Less than $40K          Blue              21   \n",
       "1        Married     $40K - $60K          Blue              43   \n",
       "2       Divorced  Less than $40K          Blue              34   \n",
       "\n",
       "   Total_Relationship_Count  ...  Contacts_Count_12_mon  Credit_Limit  \\\n",
       "0                         4  ...                      3        4598.0   \n",
       "1                         4  ...                      2        1525.0   \n",
       "2                         4  ...                      4        9863.0   \n",
       "\n",
       "   Total_Revolving_Bal  Avg_Open_To_Buy  Total_Amt_Chng_Q4_Q1  \\\n",
       "0                    0           4598.0                 0.439   \n",
       "1                 1411            114.0                 0.660   \n",
       "2                  686           9177.0                 0.581   \n",
       "\n",
       "   Total_Trans_Amt  Total_Trans_Ct  Total_Ct_Chng_Q4_Q1  \\\n",
       "0             6317              77                0.833   \n",
       "1             1911              47                0.958   \n",
       "2             3068              58                0.933   \n",
       "\n",
       "   Avg_Utilization_Ratio     Attrition_Flag  \n",
       "0                  0.000  Attrited Customer  \n",
       "1                  0.925  Existing Customer  \n",
       "2                  0.070  Existing Customer  \n",
       "\n",
       "[3 rows x 21 columns]"
      ]
     },
     "execution_count": 4,
     "metadata": {},
     "output_type": "execute_result"
    }
   ],
   "source": [
    "train_df.head(3)"
   ]
  },
  {
   "cell_type": "raw",
   "id": "31202356",
   "metadata": {},
   "source": [
    "Education_Level, Marital_Status, Income_Category, Card_Category"
   ]
  },
  {
   "cell_type": "code",
   "execution_count": 5,
   "id": "00fadb0d",
   "metadata": {},
   "outputs": [],
   "source": [
    "numeric_features = []\n",
    "object_features = []\n",
    "for col in train_df.columns:\n",
    "    if train_df[col].dtype == 'object':\n",
    "        object_features.append(col)\n",
    "    else:\n",
    "        numeric_features.append(col)"
   ]
  },
  {
   "cell_type": "markdown",
   "id": "eed3c56a",
   "metadata": {},
   "source": [
    "Заменим значения целевого признака на:\n",
    "\n",
    "    1 - Attrited Customer\n",
    "    0 - Existing Customer"
   ]
  },
  {
   "cell_type": "code",
   "execution_count": 6,
   "id": "13b37a2f",
   "metadata": {},
   "outputs": [],
   "source": [
    "train_df['Attrition_Flag'] = train_df['Attrition_Flag'].apply(lambda x: 1 if x == 'Attrited Customer' else 0)"
   ]
  },
  {
   "cell_type": "code",
   "execution_count": 7,
   "id": "d763530b",
   "metadata": {
    "scrolled": false
   },
   "outputs": [],
   "source": [
    "df = pd.concat([train_df[numeric_features], (validation_df[numeric_features])])"
   ]
  },
  {
   "cell_type": "code",
   "execution_count": 8,
   "id": "f1f6b53e",
   "metadata": {},
   "outputs": [],
   "source": [
    "scaler = MinMaxScaler()"
   ]
  },
  {
   "cell_type": "code",
   "execution_count": 9,
   "id": "ee6b97ab",
   "metadata": {},
   "outputs": [],
   "source": [
    "X_scaler = df[numeric_features].iloc[:, 1:].values"
   ]
  },
  {
   "cell_type": "code",
   "execution_count": 10,
   "id": "9abcf614",
   "metadata": {},
   "outputs": [],
   "source": [
    "X = train_df[numeric_features].iloc[:, 1:].values"
   ]
  },
  {
   "cell_type": "code",
   "execution_count": 11,
   "id": "ceadbe34",
   "metadata": {},
   "outputs": [],
   "source": [
    "y = train_df['Attrition_Flag'].values"
   ]
  },
  {
   "cell_type": "code",
   "execution_count": 12,
   "id": "44d80b93",
   "metadata": {},
   "outputs": [
    {
     "data": {
      "text/plain": [
       "MinMaxScaler()"
      ]
     },
     "execution_count": 12,
     "metadata": {},
     "output_type": "execute_result"
    }
   ],
   "source": [
    "scaler.fit(X_scaler)"
   ]
  },
  {
   "cell_type": "code",
   "execution_count": 13,
   "id": "301bfac3",
   "metadata": {},
   "outputs": [],
   "source": [
    "X = scaler.transform(X)"
   ]
  },
  {
   "cell_type": "code",
   "execution_count": 14,
   "id": "113c2574",
   "metadata": {},
   "outputs": [],
   "source": [
    "if torch.cuda.is_available():\n",
    "    device = torch.device('cuda')\n",
    "else:\n",
    "    device = torch.device('cpu')"
   ]
  },
  {
   "cell_type": "code",
   "execution_count": 15,
   "id": "8b3526db",
   "metadata": {},
   "outputs": [],
   "source": [
    "class MyDataset(Dataset):\n",
    "    def __init__(self, X, y=None):\n",
    "        self.n_samples = X.shape[0]\n",
    "        self.x_data = torch.from_numpy(X).type(torch.float32)\n",
    "        if not y is None:\n",
    "            self.y_data = torch.from_numpy(y).type(torch.int64)\n",
    "        else:\n",
    "            self.y_data = torch.zeros(self.n_samples).type(torch.float)\n",
    "\n",
    "    \n",
    "    def __getitem__(self, index):\n",
    "        return self.x_data[index], self.y_data[index]\n",
    "    \n",
    "    def __len__(self):\n",
    "        return self.n_samples"
   ]
  },
  {
   "cell_type": "code",
   "execution_count": 16,
   "id": "e6d642b3",
   "metadata": {},
   "outputs": [],
   "source": [
    "# Класс - модуль, реализующий архитектуру. Можно было бы использовать nn.Sequential\n",
    "class NeuralNetModel(torch.nn.Module):\n",
    "    def __init__(self, input_dim, hidden_dim, output_dim):\n",
    "        super(NeuralNetModel, self).__init__()\n",
    "        # Первый полносвязный слой\n",
    "        self.fc1 = torch.nn.Linear(input_dim, hidden_dim, device=device) \n",
    "\n",
    "        # Нелинейная функция\n",
    "        self.activation = torch.nn.ReLU()\n",
    "    \n",
    "        \n",
    "        # Полносвязный слой\n",
    "#         self.fc2 = torch.nn.Linear(hidden_dim, output_dim, device=device)  \n",
    "        self.fc2 = torch.nn.Linear(hidden_dim, hidden_dim, device=device)\n",
    "        self.fc3 = torch.nn.Linear(hidden_dim, hidden_dim, device=device)\n",
    "        self.fc4 = torch.nn.Linear(hidden_dim, output_dim, device=device)\n",
    "        \n",
    "    def forward(self, x):\n",
    "        # Полносвязный слой\n",
    "        out = self.fc1(x)\n",
    "\n",
    "#         # Нелинейная функция\n",
    "#         out = self.activation(out)\n",
    "        out = self.activation(out)\n",
    "        out = self.fc2(out)\n",
    "        out = self.activation(out)\n",
    "        out = self.fc3(out)\n",
    "        out = self.activation(out)\n",
    "        out = self.fc4(out)\n",
    "\n",
    "        # Полносвязный слой\n",
    "#         out = self.fc2(out)\n",
    "        \n",
    "        return out"
   ]
  },
  {
   "cell_type": "code",
   "execution_count": 17,
   "id": "701484d6",
   "metadata": {},
   "outputs": [],
   "source": [
    "batch_size = 100\n",
    "n_iters = 200000"
   ]
  },
  {
   "cell_type": "code",
   "execution_count": 18,
   "id": "e92af672",
   "metadata": {},
   "outputs": [],
   "source": [
    "input_dim = X.shape[1]\n",
    "hidden_dim = 100\n",
    "output_dim = 2"
   ]
  },
  {
   "cell_type": "code",
   "execution_count": 19,
   "id": "2f6a8c40",
   "metadata": {},
   "outputs": [],
   "source": [
    "criterion = torch.nn.CrossEntropyLoss()\n",
    "f1 = F1Score(num_classes=2).to(device)"
   ]
  },
  {
   "cell_type": "code",
   "execution_count": 20,
   "id": "13966db9",
   "metadata": {},
   "outputs": [],
   "source": [
    "learning_rate = 0.1"
   ]
  },
  {
   "cell_type": "code",
   "execution_count": 21,
   "id": "9968a434",
   "metadata": {},
   "outputs": [],
   "source": [
    "model = NeuralNetModel(input_dim, hidden_dim, output_dim)"
   ]
  },
  {
   "cell_type": "code",
   "execution_count": 22,
   "id": "5c7c5784",
   "metadata": {
    "scrolled": true
   },
   "outputs": [
    {
     "data": {
      "text/plain": [
       "NeuralNetModel(\n",
       "  (fc1): Linear(in_features=14, out_features=100, bias=True)\n",
       "  (activation): ReLU()\n",
       "  (fc2): Linear(in_features=100, out_features=100, bias=True)\n",
       "  (fc3): Linear(in_features=100, out_features=100, bias=True)\n",
       "  (fc4): Linear(in_features=100, out_features=2, bias=True)\n",
       ")"
      ]
     },
     "execution_count": 22,
     "metadata": {},
     "output_type": "execute_result"
    }
   ],
   "source": [
    "model.to(device)"
   ]
  },
  {
   "cell_type": "markdown",
   "id": "b2350a9c",
   "metadata": {},
   "source": [
    "Обучим нашу сеть"
   ]
  },
  {
   "cell_type": "code",
   "execution_count": 23,
   "id": "1f451641",
   "metadata": {},
   "outputs": [],
   "source": [
    "# Передаем параметры в оптимизатор, чтобы для них считались градиенты\n",
    "optimizer = torch.optim.SGD(model.parameters(), lr=learning_rate)"
   ]
  },
  {
   "cell_type": "code",
   "execution_count": 24,
   "id": "1e57bf72",
   "metadata": {},
   "outputs": [],
   "source": [
    "X_train, X_test, y_train, y_test = train_test_split(X, y, shuffle=True)#, random_state=43)\n",
    "\n",
    "train_dataset = MyDataset(X_train, y_train)\n",
    "test_dataset = MyDataset(X_test, y_test)\n",
    "\n",
    "train_loader = torch.utils.data.DataLoader(dataset=train_dataset, \n",
    "                                           batch_size=batch_size, \n",
    "                                           shuffle=True)\n",
    "\n",
    "test_loader = torch.utils.data.DataLoader(dataset=test_dataset, \n",
    "                                          batch_size=batch_size, \n",
    "                                          shuffle=False)"
   ]
  },
  {
   "cell_type": "code",
   "execution_count": 25,
   "id": "a0c7029f",
   "metadata": {
    "scrolled": true
   },
   "outputs": [
    {
     "name": "stdout",
     "output_type": "stream",
     "text": [
      "Итерация: 20000. Validation loss: 0.02863016165792942. Validation f1_score: 0.9557289481163025\n",
      "Итерация: 40000. Validation loss: 0.002293114550411701. Validation f1_score: 0.9546757340431213\n",
      "Итерация: 60000. Validation loss: 0.0002579888969194144. Validation f1_score: 0.9525639414787292\n",
      "Итерация: 80000. Validation loss: 0.00010038055188488215. Validation f1_score: 0.953090488910675\n",
      "Итерация: 100000. Validation loss: 6.272739119594917e-05. Validation f1_score: 0.9541437029838562\n",
      "Итерация: 120000. Validation loss: 7.731480582151562e-05. Validation f1_score: 0.9536170959472656\n",
      "Итерация: 140000. Validation loss: 2.2534062736667693e-05. Validation f1_score: 0.9536170959472656\n",
      "Итерация: 160000. Validation loss: 1.49766447066213e-05. Validation f1_score: 0.9536170959472656\n",
      "Итерация: 180000. Validation loss: 4.2555890104267746e-05. Validation f1_score: 0.9536170959472656\n",
      "Итерация: 200000. Validation loss: 3.603280129027553e-05. Validation f1_score: 0.9536170959472656\n",
      "STOP\n"
     ]
    }
   ],
   "source": [
    "iteration = 0\n",
    "num_epochs = n_iters / (len(train_dataset) / batch_size)\n",
    "num_epochs = int(num_epochs)\n",
    "\n",
    "for epoch in range(num_epochs):\n",
    "    for i, (inputs, labels) in enumerate(train_loader):\n",
    "\n",
    "        inputs = inputs.cuda(device)\n",
    "        labels = labels.reshape(-1)\n",
    "        labels = labels.cuda(device)\n",
    "\n",
    "        # Затираем прошлые градиенты, чтобы они не аккумулировались\n",
    "        optimizer.zero_grad()\n",
    "\n",
    "        # Получаем выход модели\n",
    "        outputs = model(inputs)\n",
    "\n",
    "        # Вычисляем значение функции потерь\n",
    "        loss = criterion(outputs, labels)\n",
    "\n",
    "\n",
    "        # Здесь происходит вычисление градентов для параметров модели, которые переданы в оптимизатор\n",
    "        loss.backward()\n",
    "\n",
    "        # Здесь происходит обновление параметров\n",
    "        optimizer.step()\n",
    "\n",
    "        iteration += 1\n",
    "\n",
    "        if iteration % 20000 == 0:\n",
    "            # Вычисляем точность (можно пользоваться и sklearn)         \n",
    "            correct = 0\n",
    "            total = 0\n",
    "            # Итерация по всему валидационному датасету, \"переключаем\" модель в режим инференса\n",
    "            # (в данном случае не обязательно, но в общем случае важно не забывать)\n",
    "            model.eval()\n",
    "\n",
    "            # Поскольку нам не нужно вычисление градиентов, мы используем менеджер контекста\n",
    "            with torch.no_grad():\n",
    "                for inputs, labels in test_loader:\n",
    "                    inputs = inputs.cuda(device)\n",
    "                    labels = labels.reshape(-1)\n",
    "                    labels = labels.cuda(device)\n",
    "\n",
    "                    # Получаем выход модели\n",
    "                    outputs = model(inputs)\n",
    "\n",
    "                    # Берем класс, имеющий наибольшую вероятность (здесь логиты)\n",
    "                    _, predicted = torch.max(outputs.data, 1)\n",
    "\n",
    "                    # Подсчитываем общее количество объектов в тестовой выборке\n",
    "                    total += labels.size(0)\n",
    "\n",
    "                    # Общее количество верно классифицированных объектов\n",
    "                    correct += f1(predicted, labels)\n",
    "                model.train()\n",
    "            f1_score = 100 * correct / total\n",
    "\n",
    "            print('Итерация: {}. Validation loss: {}. Validation f1_score: {}'.format(iteration, loss.item(), f1_score))\n",
    "print('STOP')"
   ]
  },
  {
   "cell_type": "code",
   "execution_count": 26,
   "id": "9c323b39",
   "metadata": {},
   "outputs": [],
   "source": [
    "torch.save(model.state_dict(), 'model_200.pt')"
   ]
  },
  {
   "cell_type": "code",
   "execution_count": 27,
   "id": "aeb2dd53",
   "metadata": {},
   "outputs": [],
   "source": [
    "X_valid = validation_df[numeric_features].iloc[:, 1:].values\n",
    "X_valid = scaler.transform(X_valid)\n",
    "\n",
    "validation_dataset = MyDataset(X_valid)\n",
    "validation_loader = torch.utils.data.DataLoader(dataset=validation_dataset, \n",
    "                                           batch_size=len(validation_dataset), \n",
    "                                           shuffle=False)\n",
    "\n",
    "for inputs, labels in validation_loader:\n",
    "    inputs = inputs.cuda(device)\n",
    "    labels = labels.reshape(-1)\n",
    "    labels = labels.cuda(device)\n",
    "    outputs = model(inputs)\n",
    "    _, predicted = torch.max(outputs.data, 1)"
   ]
  },
  {
   "cell_type": "code",
   "execution_count": 28,
   "id": "08d17b93",
   "metadata": {},
   "outputs": [],
   "source": [
    "predicted = predicted.cpu()\n",
    "predicted_array = predicted.numpy()\n",
    "client_id_array = validation_df.CLIENTNUM.values\n",
    "\n",
    "df_result = pd.DataFrame(np.hstack([client_id_array.reshape(-1, 1), predicted_array.reshape(-1, 1)]), columns=['client_id', 'churn'])\n",
    "df_result.to_csv('7_result_evstratovsv_200.csv', index=False)"
   ]
  }
 ],
 "metadata": {
  "kernelspec": {
   "display_name": "Python 3 (ipykernel)",
   "language": "python",
   "name": "python3"
  },
  "language_info": {
   "codemirror_mode": {
    "name": "ipython",
    "version": 3
   },
   "file_extension": ".py",
   "mimetype": "text/x-python",
   "name": "python",
   "nbconvert_exporter": "python",
   "pygments_lexer": "ipython3",
   "version": "3.9.12"
  }
 },
 "nbformat": 4,
 "nbformat_minor": 5
}
