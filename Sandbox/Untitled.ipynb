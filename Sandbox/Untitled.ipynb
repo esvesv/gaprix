{
 "cells": [
  {
   "cell_type": "code",
   "execution_count": 1,
   "id": "0ab7d340",
   "metadata": {},
   "outputs": [],
   "source": [
    "import pandas as pd\n",
    "import json\n",
    "import os\n",
    "import numpy as np\n",
    "import pickle\n",
    "import seaborn as sns\n",
    "import torch\n",
    "import matplotlib.pyplot as plt\n",
    "from sklearn.model_selection import train_test_split, KFold\n",
    "from sklearn.preprocessing import StandardScaler, MinMaxScaler\n",
    "from torchmetrics import F1Score\n",
    "from torch.utils.data import Dataset, DataLoader\n",
    "\n",
    "%matplotlib inline"
   ]
  },
  {
   "cell_type": "code",
   "execution_count": 4,
   "id": "434b2f5c",
   "metadata": {},
   "outputs": [],
   "source": [
    "if torch.cuda.is_available():\n",
    "    device = torch.device('cuda')\n",
    "else:\n",
    "    device = torch.device('cpu')"
   ]
  },
  {
   "cell_type": "code",
   "execution_count": 5,
   "id": "8ba4bc47",
   "metadata": {},
   "outputs": [],
   "source": [
    "# Класс - модуль, реализующий архитектуру. Можно было бы использовать nn.Sequential\n",
    "class NeuralNetModel(torch.nn.Module):\n",
    "    def __init__(self, input_dim, hidden_dim, output_dim):\n",
    "        super(NeuralNetModel, self).__init__()\n",
    "\n",
    "        # Первый полносвязный слой\n",
    "        self.fc1 = torch.nn.Linear(input_dim, hidden_dim, device=device) \n",
    "\n",
    "        # Нелинейная функция\n",
    "        self.activation = torch.nn.ReLU()\n",
    "        \n",
    "        # Полносвязный слой\n",
    "        self.fc2 = torch.nn.Linear(hidden_dim, output_dim, device=device)  \n",
    "        \n",
    "    def forward(self, x):\n",
    "        # Полносвязный слой\n",
    "        out = self.fc1(x)\n",
    "\n",
    "        # Нелинейная функция\n",
    "        out = self.activation(out)\n",
    "\n",
    "        # Полносвязный слой\n",
    "        out = self.fc2(out)\n",
    "        \n",
    "        return out"
   ]
  },
  {
   "cell_type": "code",
   "execution_count": 6,
   "id": "fa08879e",
   "metadata": {},
   "outputs": [],
   "source": [
    "model = NeuralNetModel(5, 10, 1)"
   ]
  },
  {
   "cell_type": "code",
   "execution_count": 27,
   "id": "14cdb3e9",
   "metadata": {},
   "outputs": [],
   "source": [
    "weight = torch.tensor([[1, 2, 3, 4, 5],\n",
    "                      [1, 2, 3, 4, 5],\n",
    "                      [1, 2, 3, 4, 5],\n",
    "                      [1, 2, 3, 4, 5],\n",
    "                      [1, 2, 3, 4, 5],\n",
    "                      [1, 2, 3, 4, 5],\n",
    "                      [1, 2, 3, 4, 5],\n",
    "                      [1, 2, 3, 4, 5],\n",
    "                      [1, 2, 3, 4, 5],\n",
    "                      [1, 2, 3, 4, 5]])\n",
    "weight = weight.type(torch.float32)"
   ]
  },
  {
   "cell_type": "code",
   "execution_count": 28,
   "id": "6e1c2d28",
   "metadata": {},
   "outputs": [
    {
     "data": {
      "text/plain": [
       "torch.Size([10, 5])"
      ]
     },
     "execution_count": 28,
     "metadata": {},
     "output_type": "execute_result"
    }
   ],
   "source": [
    "weight.shape"
   ]
  },
  {
   "cell_type": "code",
   "execution_count": 29,
   "id": "355dd743",
   "metadata": {},
   "outputs": [
    {
     "data": {
      "text/plain": [
       "tensor([[1., 2., 3., 4., 5.],\n",
       "        [1., 2., 3., 4., 5.],\n",
       "        [1., 2., 3., 4., 5.],\n",
       "        [1., 2., 3., 4., 5.],\n",
       "        [1., 2., 3., 4., 5.],\n",
       "        [1., 2., 3., 4., 5.],\n",
       "        [1., 2., 3., 4., 5.],\n",
       "        [1., 2., 3., 4., 5.],\n",
       "        [1., 2., 3., 4., 5.],\n",
       "        [1., 2., 3., 4., 5.]])"
      ]
     },
     "execution_count": 29,
     "metadata": {},
     "output_type": "execute_result"
    }
   ],
   "source": [
    "weight"
   ]
  },
  {
   "cell_type": "code",
   "execution_count": 31,
   "id": "3c91b2e7",
   "metadata": {},
   "outputs": [
    {
     "data": {
      "text/plain": [
       "Parameter containing:\n",
       "tensor([[ 0.4156,  0.4188,  0.4409, -0.2223, -0.0092],\n",
       "        [ 0.4357, -0.2379, -0.3851,  0.0518, -0.1201],\n",
       "        [ 0.0167,  0.2359, -0.2200, -0.0249,  0.2474],\n",
       "        [-0.1188, -0.3928, -0.0895,  0.2007, -0.3319],\n",
       "        [-0.2384,  0.4274, -0.3406,  0.2797,  0.0418],\n",
       "        [ 0.1163,  0.2719,  0.4238, -0.0488,  0.1991],\n",
       "        [ 0.3628,  0.3552, -0.2150,  0.3740,  0.3271],\n",
       "        [ 0.2066,  0.2653,  0.0891,  0.2110,  0.1955],\n",
       "        [ 0.2879, -0.2189,  0.3884, -0.2384, -0.2715],\n",
       "        [ 0.1236, -0.1306, -0.0804, -0.3025,  0.1951]], device='cuda:0',\n",
       "       requires_grad=True)"
      ]
     },
     "execution_count": 31,
     "metadata": {},
     "output_type": "execute_result"
    }
   ],
   "source": [
    "model.fc1.weight"
   ]
  },
  {
   "cell_type": "code",
   "execution_count": 33,
   "id": "f1f926a1",
   "metadata": {},
   "outputs": [
    {
     "name": "stdout",
     "output_type": "stream",
     "text": [
      "NeuralNetModel(\n",
      "  (fc1): Linear(in_features=5, out_features=10, bias=True)\n",
      "  (activation): ReLU()\n",
      "  (fc2): Linear(in_features=10, out_features=1, bias=True)\n",
      ")\n"
     ]
    }
   ],
   "source": [
    "print(model)"
   ]
  },
  {
   "cell_type": "code",
   "execution_count": 34,
   "id": "09e5f18a",
   "metadata": {},
   "outputs": [
    {
     "data": {
      "text/plain": [
       "<bound method Module.named_parameters of NeuralNetModel(\n",
       "  (fc1): Linear(in_features=5, out_features=10, bias=True)\n",
       "  (activation): ReLU()\n",
       "  (fc2): Linear(in_features=10, out_features=1, bias=True)\n",
       ")>"
      ]
     },
     "execution_count": 34,
     "metadata": {},
     "output_type": "execute_result"
    }
   ],
   "source": [
    "model.named_parameters"
   ]
  },
  {
   "cell_type": "code",
   "execution_count": null,
   "id": "03cfe661",
   "metadata": {},
   "outputs": [],
   "source": []
  },
  {
   "cell_type": "code",
   "execution_count": null,
   "id": "c0351c14",
   "metadata": {},
   "outputs": [],
   "source": []
  },
  {
   "cell_type": "code",
   "execution_count": 3,
   "id": "f8822b04",
   "metadata": {},
   "outputs": [],
   "source": [
    "df = pd.read_json('../df.json')"
   ]
  },
  {
   "cell_type": "code",
   "execution_count": null,
   "id": "8662bd4c",
   "metadata": {},
   "outputs": [],
   "source": []
  }
 ],
 "metadata": {
  "kernelspec": {
   "display_name": "Python 3 (ipykernel)",
   "language": "python",
   "name": "python3"
  },
  "language_info": {
   "codemirror_mode": {
    "name": "ipython",
    "version": 3
   },
   "file_extension": ".py",
   "mimetype": "text/x-python",
   "name": "python",
   "nbconvert_exporter": "python",
   "pygments_lexer": "ipython3",
   "version": "3.9.12"
  }
 },
 "nbformat": 4,
 "nbformat_minor": 5
}
