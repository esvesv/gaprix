{
 "cells": [
  {
   "cell_type": "code",
   "execution_count": 5,
   "id": "87db1f95",
   "metadata": {},
   "outputs": [],
   "source": [
    "with open('reviews.txt', encoding='utf-8') as file:\n",
    "    raw_reviews = file.readlines()"
   ]
  },
  {
   "cell_type": "code",
   "execution_count": 27,
   "id": "ed559290",
   "metadata": {},
   "outputs": [],
   "source": [
    "with open('labels.txt', encoding='utf-8') as file:\n",
    "    raw_labels = file.readlines()"
   ]
  },
  {
   "cell_type": "code",
   "execution_count": 6,
   "id": "a4a7bda6",
   "metadata": {},
   "outputs": [],
   "source": [
    "tokens = list(map(str.split, raw_reviews)) # статьи"
   ]
  },
  {
   "cell_type": "code",
   "execution_count": 24,
   "id": "163afbdf",
   "metadata": {},
   "outputs": [],
   "source": [
    "vocab = list({word for token in tokens for word in token if len(word) > 0}) # словарь всех слов"
   ]
  },
  {
   "cell_type": "code",
   "execution_count": 25,
   "id": "2b9dfe3c",
   "metadata": {},
   "outputs": [],
   "source": [
    "word2index = {word: idx for idx, word in enumerate(vocab)} #  словарь индексов слов"
   ]
  },
  {
   "cell_type": "code",
   "execution_count": 29,
   "id": "87aaed77",
   "metadata": {},
   "outputs": [],
   "source": [
    "input_dataset = [[word2index[word] for word in token] for token in tokens]"
   ]
  },
  {
   "cell_type": "code",
   "execution_count": 33,
   "id": "b7be4783",
   "metadata": {},
   "outputs": [],
   "source": [
    "target_dataset = [1 if label == 'positive\\n' else 0 for label in raw_labels]"
   ]
  },
  {
   "cell_type": "code",
   "execution_count": 35,
   "id": "e9327459",
   "metadata": {},
   "outputs": [
    {
     "name": "stdout",
     "output_type": "stream",
     "text": [
      "Iter:0 Progress:95.99% Training Accuracy:0.8183333333333334%%\n",
      "Iter:1 Progress:95.99% Training Accuracy:0.8487291666666666%\n",
      "Test Accuracy:0.853\n"
     ]
    }
   ],
   "source": [
    "import sys\n",
    "import numpy as np\n",
    "np.random.seed(1)\n",
    "\n",
    "def sigmoid(x):\n",
    "    return 1/(1 + np.exp(-x))\n",
    "\n",
    "alpha, iterations = (0.01, 2)\n",
    "hidden_size = 100\n",
    "\n",
    "weights_0_1 = 0.2*np.random.random((len(vocab),hidden_size)) - 0.1\n",
    "weights_1_2 = 0.2*np.random.random((hidden_size,1)) - 0.1\n",
    "\n",
    "correct,total = (0,0)\n",
    "for iter in range(iterations):\n",
    "    \n",
    "    # train on first 24,000\n",
    "    for i in range(len(input_dataset)-1000):\n",
    "\n",
    "        x,y = (input_dataset[i],target_dataset[i])\n",
    "        layer_1 = sigmoid(np.sum(weights_0_1[x],axis=0)) #embed + sigmoid\n",
    "        layer_2 = sigmoid(np.dot(layer_1,weights_1_2)) # linear + softmax\n",
    "\n",
    "        layer_2_delta = layer_2 - y # compare pred with truth\n",
    "        layer_1_delta = layer_2_delta.dot(weights_1_2.T) #backprop\n",
    "\n",
    "        weights_0_1[x] -= layer_1_delta * alpha\n",
    "        weights_1_2 -= np.outer(layer_1,layer_2_delta) * alpha\n",
    "\n",
    "        if(np.abs(layer_2_delta) < 0.5):\n",
    "            correct += 1\n",
    "        total += 1\n",
    "        if(i % 10 == 9):\n",
    "            progress = str(i/float(len(input_dataset)))\n",
    "            sys.stdout.write('\\rIter:'+str(iter)\\\n",
    "                             +' Progress:'+progress[2:4]\\\n",
    "                             +'.'+progress[4:6]\\\n",
    "                             +'% Training Accuracy:'\\\n",
    "                             + str(correct/float(total)) + '%')\n",
    "    print()\n",
    "correct,total = (0,0)\n",
    "for i in range(len(input_dataset)-1000,len(input_dataset)):\n",
    "\n",
    "    x = input_dataset[i]\n",
    "    y = target_dataset[i]\n",
    "\n",
    "    layer_1 = sigmoid(np.sum(weights_0_1[x],axis=0))\n",
    "    layer_2 = sigmoid(np.dot(layer_1,weights_1_2))\n",
    "    \n",
    "    if(np.abs(layer_2 - y) < 0.5):\n",
    "        correct += 1\n",
    "    total += 1\n",
    "print(\"Test Accuracy:\" + str(correct / float(total)))"
   ]
  },
  {
   "cell_type": "code",
   "execution_count": 38,
   "id": "ddafc85b",
   "metadata": {},
   "outputs": [
    {
     "data": {
      "text/plain": [
       "0.05795379072681704"
      ]
     },
     "execution_count": 38,
     "metadata": {},
     "output_type": "execute_result"
    }
   ],
   "source": [
    "883*2095*1200*2/(2400*2400*13300)"
   ]
  },
  {
   "cell_type": "code",
   "execution_count": null,
   "id": "a090237c",
   "metadata": {},
   "outputs": [],
   "source": []
  }
 ],
 "metadata": {
  "kernelspec": {
   "display_name": "Python 3 (ipykernel)",
   "language": "python",
   "name": "python3"
  },
  "language_info": {
   "codemirror_mode": {
    "name": "ipython",
    "version": 3
   },
   "file_extension": ".py",
   "mimetype": "text/x-python",
   "name": "python",
   "nbconvert_exporter": "python",
   "pygments_lexer": "ipython3",
   "version": "3.9.12"
  }
 },
 "nbformat": 4,
 "nbformat_minor": 5
}
